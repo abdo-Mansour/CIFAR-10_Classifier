{
 "cells": [
  {
   "cell_type": "code",
   "execution_count": 160,
   "id": "initial_id",
   "metadata": {
<<<<<<< HEAD
    "ExecuteTime": {
     "end_time": "2023-12-25T05:02:14.361913800Z",
     "start_time": "2023-12-25T05:02:14.357760200Z"
    },
    "collapsed": true
=======
    "collapsed": true,
    "ExecuteTime": {
     "end_time": "2023-12-25T05:02:14.361913800Z",
     "start_time": "2023-12-25T05:02:14.357760200Z"
    }
>>>>>>> 476bc9af61aeb9b77a74ecc4f853b5398436ae7a
   },
   "outputs": [],
   "source": [
    "import numpy as np\n",
    "import matplotlib.pyplot as plt\n",
    "import sklearn as sk\n",
    "import skimage as ski\n",
    "import tensorflow as tf\n",
    "from sklearn.svm import SVC\n",
    "from sklearn.model_selection import GridSearchCV\n",
    "from sklearn.metrics import confusion_matrix, accuracy_score, precision_score, recall_score, f1_score\n",
    "import seaborn as sns\n",
    "import matplotlib.pyplot as plt\n",
    "from sklearn.naive_bayes import GaussianNB"
   ]
  },
  {
   "cell_type": "code",
<<<<<<< HEAD
   "execution_count": 161,
   "id": "65a42ea47608a7a8",
   "metadata": {
    "ExecuteTime": {
     "end_time": "2023-12-25T05:02:14.612118500Z",
     "start_time": "2023-12-25T05:02:14.363999100Z"
    },
    "collapsed": false
   },
=======
>>>>>>> 476bc9af61aeb9b77a74ecc4f853b5398436ae7a
   "outputs": [],
   "source": [
    "cifar = tf.keras.datasets.cifar10.load_data()\n",
    "(x_train, y_train), (x_test, y_test) = cifar"
<<<<<<< HEAD
   ]
  },
  {
   "cell_type": "code",
   "execution_count": 162,
   "id": "ab03662cf9e72df4",
   "metadata": {
    "ExecuteTime": {
     "end_time": "2023-12-25T05:02:15.594958500Z",
     "start_time": "2023-12-25T05:02:14.612118500Z"
    },
    "collapsed": false
   },
=======
   ],
   "metadata": {
    "collapsed": false,
    "ExecuteTime": {
     "end_time": "2023-12-25T05:02:14.612118500Z",
     "start_time": "2023-12-25T05:02:14.363999100Z"
    }
   },
   "id": "65a42ea47608a7a8",
   "execution_count": 161
  },
  {
   "cell_type": "code",
>>>>>>> 476bc9af61aeb9b77a74ecc4f853b5398436ae7a
   "outputs": [],
   "source": [
    "# Taking a number of data points from each class\n",
    "def get_N_from_each_class(N, percentage_of_testing_data, x_train, y_train, x_test, y_test):\n",
    "    # Generating indices for the data points we are going to take from the data (both test and train)\n",
    "    selected_indices = []\n",
    "    for class_label in range(10):\n",
    "        # For every possible index, take the index iff the point belongs to this class \n",
    "        class_indices = [i for i in range(len(y_train)) if y_train[i][0] == class_label]\n",
    "        selected_indices.append(class_indices[:N])\n",
    "\n",
    "    # Picking the data based on the indices\n",
    "    x_train = x_train[selected_indices]\n",
    "    y_train = y_train[selected_indices]\n",
    "    # Reshaping the data to flatten it to all classes together (to get it back to original form)\n",
    "    x_train = x_train.reshape(-1, 32, 32, 3)\n",
    "    y_train = y_train.reshape(-1, 1)\n",
    "\n",
    "    # Doing the same with the test data\n",
    "    selected_indices = []\n",
    "    for class_label in range(10):\n",
    "        class_indices = [i for i in range(len(y_test)) if y_test[i][0] == class_label]\n",
    "        selected_indices.append(class_indices[:int(N * percentage_of_testing_data)])\n",
    "\n",
    "    x_test = x_test[selected_indices]\n",
    "    y_test = y_test[selected_indices]\n",
    "    x_test = x_test.reshape(-1, 32, 32, 3)\n",
    "    y_test = y_test.reshape(-1, 1)\n",
    "\n",
    "    # Randomizing data, just in case\n",
    "    # np.random.shuffle(x_train)\n",
    "    # np.random.shuffle(y_train)\n",
    "    # np.random.shuffle(x_test)\n",
    "    # np.random.shuffle(y_test)\n",
    "\n",
    "    indices = np.random.permutation(len(x_train))\n",
    "    x_train = x_train[indices]\n",
    "    y_train = y_train[indices]\n",
    "\n",
    "    indices = np.random.permutation(len(x_test))\n",
    "    x_test = x_test[indices]\n",
    "    y_test = y_test[indices]\n",
    "\n",
    "    return (x_train, y_train), (x_test, y_test)\n",
    "\n",
    "\n",
    "n_samples_from_each_class = 3000\n",
    "(x_train, y_train), (x_test, y_test) = get_N_from_each_class(n_samples_from_each_class, 0.3, x_train, y_train, x_test, y_test)"
<<<<<<< HEAD
   ]
  },
  {
   "cell_type": "code",
   "execution_count": 163,
   "id": "a8d6d014b035599a",
   "metadata": {
    "ExecuteTime": {
     "end_time": "2023-12-25T05:02:15.605119100Z",
     "start_time": "2023-12-25T05:02:15.596959100Z"
    },
    "collapsed": false
   },
=======
   ],
   "metadata": {
    "collapsed": false,
    "ExecuteTime": {
     "end_time": "2023-12-25T05:02:15.594958500Z",
     "start_time": "2023-12-25T05:02:14.612118500Z"
    }
   },
   "id": "ab03662cf9e72df4",
   "execution_count": 162
  },
  {
   "cell_type": "code",
>>>>>>> 476bc9af61aeb9b77a74ecc4f853b5398436ae7a
   "outputs": [],
   "source": [
    "# extrating the features from the images\n",
    "# method used: Central Moments\n",
    "\n",
    "def extract_image_features(image, C=3):\n",
    "    '''\n",
    "    Extracts the features from the image using the central moments method of order C\n",
    "    It turns the image to grayscale, then calculates the central moments of order C\n",
    "    \n",
    "    Parameters:\n",
    "    image: the image to be processed\n",
    "    C: the moments order\n",
    "\n",
    "    Returns:\n",
    "    features: a vector of the features extracted from the image\n",
    "    '''\n",
    "\n",
    "    # turning the image to grayscale\n",
    "    image = ski.color.rgb2gray(image)\n",
    "\n",
    "    # calculating the central moments\n",
    "    cal_moments = ski.measure.moments_central(image, order=C)\n",
    "\n",
    "    # create an np array that contains zeroes \n",
    "    features = np.zeros(shape=int((C + 1) * (C + 2) / 2))\n",
    "\n",
    "    # turn the 2D array to 1D by putting only the needed values based on this equation \n",
    "    # p + q <= C \n",
    "    # if C = 3 the needed numbers are : 00 01 10 11 20 02 21 12 03 30 , size = 10 s\n",
    "    current = 0;\n",
    "    for i in range(C + 1):\n",
    "        for j in range(C + 1):\n",
    "            if i + j <= C:\n",
    "                features[current] = cal_moments[i][j]\n",
    "                current = current + 1\n",
    "\n",
    "    return features"
<<<<<<< HEAD
   ]
  },
  {
   "cell_type": "code",
   "execution_count": 164,
   "id": "9c64e46012c3e3a9",
   "metadata": {
    "ExecuteTime": {
     "end_time": "2023-12-25T05:02:22.831378500Z",
     "start_time": "2023-12-25T05:02:15.602119700Z"
    },
    "collapsed": false
   },
=======
   ],
   "metadata": {
    "collapsed": false,
    "ExecuteTime": {
     "end_time": "2023-12-25T05:02:15.605119100Z",
     "start_time": "2023-12-25T05:02:15.596959100Z"
    }
   },
   "id": "a8d6d014b035599a",
   "execution_count": 163
  },
  {
   "cell_type": "code",
>>>>>>> 476bc9af61aeb9b77a74ecc4f853b5398436ae7a
   "outputs": [],
   "source": [
    "from sklearn.preprocessing import StandardScaler\n",
    "\n",
    "C_order = 5\n",
    "# Extracting the images features\n",
    "Training_features = np.array([extract_image_features(x_train[i], C_order) for i in range(len(x_train))])\n",
    "Testing_features = np.array([extract_image_features(x_test[i], C_order) for i in range(len(x_test))])\n",
    "\n",
    "# Fit the scaler on training data\n",
    "scaler = StandardScaler().fit(Training_features)\n",
    "\n",
    "# Standardize both training and testing data\n",
    "standardized_training_features = scaler.transform(Training_features)\n",
    "standardized_test_features = scaler.transform(Testing_features)"
<<<<<<< HEAD
   ]
  },
  {
   "cell_type": "code",
   "execution_count": 165,
   "id": "ec22b97b0bcb355e",
   "metadata": {
    "ExecuteTime": {
     "end_time": "2023-12-25T05:02:22.885029500Z",
     "start_time": "2023-12-25T05:02:22.834382800Z"
    },
    "collapsed": false
   },
=======
   ],
   "metadata": {
    "collapsed": false,
    "ExecuteTime": {
     "end_time": "2023-12-25T05:02:22.831378500Z",
     "start_time": "2023-12-25T05:02:15.602119700Z"
    }
   },
   "id": "9c64e46012c3e3a9",
   "execution_count": 164
  },
  {
   "cell_type": "code",
>>>>>>> 476bc9af61aeb9b77a74ecc4f853b5398436ae7a
   "outputs": [
    {
     "name": "stdout",
     "output_type": "stream",
     "text": [
      "0.22455555555555556\n",
      "0.22590081480408752\n",
      "0.22455555555555554\n",
      "0.19851436393015415\n"
     ]
    }
   ],
   "source": [
    "# Note that gaussian has no hyperparameters so we could try none\n",
    "gaussianNB = GaussianNB()\n",
    "\n",
    "# Training\n",
    "gaussianNB.fit(standardized_training_features, y_train.flatten())\n",
    "\n",
    "# Prediction\n",
    "y_predict = gaussianNB.predict(standardized_test_features)\n",
    "\n",
    "# Calculating Metrics\n",
    "gaussian_accuracy = accuracy_score(y_test, y_predict)\n",
    "gaussian_precision = precision_score(y_test, y_predict, average='macro')\n",
    "gaussian_recall = recall_score(y_test, y_predict, average='macro')\n",
    "gaussian_f1 = f1_score(y_test, y_predict, average='macro')\n",
    "\n",
    "\n",
    "print(gaussian_accuracy)\n",
    "print(gaussian_precision)\n",
    "print(gaussian_recall)\n",
    "print(gaussian_f1)"
<<<<<<< HEAD
   ]
=======
   ],
   "metadata": {
    "collapsed": false,
    "ExecuteTime": {
     "end_time": "2023-12-25T05:02:22.885029500Z",
     "start_time": "2023-12-25T05:02:22.834382800Z"
    }
   },
   "id": "ec22b97b0bcb355e",
   "execution_count": 165
>>>>>>> 476bc9af61aeb9b77a74ecc4f853b5398436ae7a
  }
 ],
 "metadata": {
  "kernelspec": {
   "display_name": "Python 3",
   "language": "python",
   "name": "python3"
  },
  "language_info": {
   "codemirror_mode": {
    "name": "ipython",
    "version": 2
   },
   "file_extension": ".py",
   "mimetype": "text/x-python",
   "name": "python",
   "nbconvert_exporter": "python",
   "pygments_lexer": "ipython2",
   "version": "2.7.6"
  }
 },
 "nbformat": 4,
 "nbformat_minor": 5
}
